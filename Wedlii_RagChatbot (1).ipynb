{
  "nbformat": 4,
  "nbformat_minor": 0,
  "metadata": {
    "colab": {
      "provenance": []
    },
    "kernelspec": {
      "name": "python3",
      "display_name": "Python 3"
    },
    "language_info": {
      "name": "python"
    }
  },
  "cells": [
    {
      "cell_type": "code",
      "source": [
        "!pip install -U langchain-community langchain-openai faiss-cpu pypdf python-docx docx2txt openai"
      ],
      "metadata": {
        "colab": {
          "base_uri": "https://localhost:8080/"
        },
        "id": "7AQhuqKvobFB",
        "outputId": "38568526-42af-4b27-ae8f-63d4627af1d8"
      },
      "execution_count": 59,
      "outputs": [
        {
          "output_type": "stream",
          "name": "stdout",
          "text": [
            "Requirement already satisfied: langchain-community in /usr/local/lib/python3.12/dist-packages (0.3.29)\n",
            "Requirement already satisfied: langchain-openai in /usr/local/lib/python3.12/dist-packages (0.3.32)\n",
            "Requirement already satisfied: faiss-cpu in /usr/local/lib/python3.12/dist-packages (1.12.0)\n",
            "Requirement already satisfied: pypdf in /usr/local/lib/python3.12/dist-packages (6.0.0)\n",
            "Requirement already satisfied: python-docx in /usr/local/lib/python3.12/dist-packages (1.2.0)\n",
            "Requirement already satisfied: docx2txt in /usr/local/lib/python3.12/dist-packages (0.9)\n",
            "Requirement already satisfied: openai in /usr/local/lib/python3.12/dist-packages (1.104.2)\n",
            "Requirement already satisfied: langchain-core<2.0.0,>=0.3.75 in /usr/local/lib/python3.12/dist-packages (from langchain-community) (0.3.75)\n",
            "Requirement already satisfied: langchain<2.0.0,>=0.3.27 in /usr/local/lib/python3.12/dist-packages (from langchain-community) (0.3.27)\n",
            "Requirement already satisfied: SQLAlchemy<3,>=1.4 in /usr/local/lib/python3.12/dist-packages (from langchain-community) (2.0.43)\n",
            "Requirement already satisfied: requests<3,>=2.32.5 in /usr/local/lib/python3.12/dist-packages (from langchain-community) (2.32.5)\n",
            "Requirement already satisfied: PyYAML>=5.3 in /usr/local/lib/python3.12/dist-packages (from langchain-community) (6.0.2)\n",
            "Requirement already satisfied: aiohttp<4.0.0,>=3.8.3 in /usr/local/lib/python3.12/dist-packages (from langchain-community) (3.12.15)\n",
            "Requirement already satisfied: tenacity!=8.4.0,<10,>=8.1.0 in /usr/local/lib/python3.12/dist-packages (from langchain-community) (8.5.0)\n",
            "Requirement already satisfied: dataclasses-json<0.7,>=0.6.7 in /usr/local/lib/python3.12/dist-packages (from langchain-community) (0.6.7)\n",
            "Requirement already satisfied: pydantic-settings<3.0.0,>=2.10.1 in /usr/local/lib/python3.12/dist-packages (from langchain-community) (2.10.1)\n",
            "Requirement already satisfied: langsmith>=0.1.125 in /usr/local/lib/python3.12/dist-packages (from langchain-community) (0.4.16)\n",
            "Requirement already satisfied: httpx-sse<1.0.0,>=0.4.0 in /usr/local/lib/python3.12/dist-packages (from langchain-community) (0.4.1)\n",
            "Requirement already satisfied: numpy>=1.26.2 in /usr/local/lib/python3.12/dist-packages (from langchain-community) (2.0.2)\n",
            "Requirement already satisfied: tiktoken<1,>=0.7 in /usr/local/lib/python3.12/dist-packages (from langchain-openai) (0.11.0)\n",
            "Requirement already satisfied: packaging in /usr/local/lib/python3.12/dist-packages (from faiss-cpu) (25.0)\n",
            "Requirement already satisfied: lxml>=3.1.0 in /usr/local/lib/python3.12/dist-packages (from python-docx) (5.4.0)\n",
            "Requirement already satisfied: typing_extensions>=4.9.0 in /usr/local/lib/python3.12/dist-packages (from python-docx) (4.15.0)\n",
            "Requirement already satisfied: anyio<5,>=3.5.0 in /usr/local/lib/python3.12/dist-packages (from openai) (4.10.0)\n",
            "Requirement already satisfied: distro<2,>=1.7.0 in /usr/local/lib/python3.12/dist-packages (from openai) (1.9.0)\n",
            "Requirement already satisfied: httpx<1,>=0.23.0 in /usr/local/lib/python3.12/dist-packages (from openai) (0.28.1)\n",
            "Requirement already satisfied: jiter<1,>=0.4.0 in /usr/local/lib/python3.12/dist-packages (from openai) (0.10.0)\n",
            "Requirement already satisfied: pydantic<3,>=1.9.0 in /usr/local/lib/python3.12/dist-packages (from openai) (2.11.7)\n",
            "Requirement already satisfied: sniffio in /usr/local/lib/python3.12/dist-packages (from openai) (1.3.1)\n",
            "Requirement already satisfied: tqdm>4 in /usr/local/lib/python3.12/dist-packages (from openai) (4.67.1)\n",
            "Requirement already satisfied: aiohappyeyeballs>=2.5.0 in /usr/local/lib/python3.12/dist-packages (from aiohttp<4.0.0,>=3.8.3->langchain-community) (2.6.1)\n",
            "Requirement already satisfied: aiosignal>=1.4.0 in /usr/local/lib/python3.12/dist-packages (from aiohttp<4.0.0,>=3.8.3->langchain-community) (1.4.0)\n",
            "Requirement already satisfied: attrs>=17.3.0 in /usr/local/lib/python3.12/dist-packages (from aiohttp<4.0.0,>=3.8.3->langchain-community) (25.3.0)\n",
            "Requirement already satisfied: frozenlist>=1.1.1 in /usr/local/lib/python3.12/dist-packages (from aiohttp<4.0.0,>=3.8.3->langchain-community) (1.7.0)\n",
            "Requirement already satisfied: multidict<7.0,>=4.5 in /usr/local/lib/python3.12/dist-packages (from aiohttp<4.0.0,>=3.8.3->langchain-community) (6.6.4)\n",
            "Requirement already satisfied: propcache>=0.2.0 in /usr/local/lib/python3.12/dist-packages (from aiohttp<4.0.0,>=3.8.3->langchain-community) (0.3.2)\n",
            "Requirement already satisfied: yarl<2.0,>=1.17.0 in /usr/local/lib/python3.12/dist-packages (from aiohttp<4.0.0,>=3.8.3->langchain-community) (1.20.1)\n",
            "Requirement already satisfied: idna>=2.8 in /usr/local/lib/python3.12/dist-packages (from anyio<5,>=3.5.0->openai) (3.10)\n",
            "Requirement already satisfied: marshmallow<4.0.0,>=3.18.0 in /usr/local/lib/python3.12/dist-packages (from dataclasses-json<0.7,>=0.6.7->langchain-community) (3.26.1)\n",
            "Requirement already satisfied: typing-inspect<1,>=0.4.0 in /usr/local/lib/python3.12/dist-packages (from dataclasses-json<0.7,>=0.6.7->langchain-community) (0.9.0)\n",
            "Requirement already satisfied: certifi in /usr/local/lib/python3.12/dist-packages (from httpx<1,>=0.23.0->openai) (2025.8.3)\n",
            "Requirement already satisfied: httpcore==1.* in /usr/local/lib/python3.12/dist-packages (from httpx<1,>=0.23.0->openai) (1.0.9)\n",
            "Requirement already satisfied: h11>=0.16 in /usr/local/lib/python3.12/dist-packages (from httpcore==1.*->httpx<1,>=0.23.0->openai) (0.16.0)\n",
            "Requirement already satisfied: langchain-text-splitters<1.0.0,>=0.3.9 in /usr/local/lib/python3.12/dist-packages (from langchain<2.0.0,>=0.3.27->langchain-community) (0.3.9)\n",
            "Requirement already satisfied: jsonpatch<2.0,>=1.33 in /usr/local/lib/python3.12/dist-packages (from langchain-core<2.0.0,>=0.3.75->langchain-community) (1.33)\n",
            "Requirement already satisfied: orjson>=3.9.14 in /usr/local/lib/python3.12/dist-packages (from langsmith>=0.1.125->langchain-community) (3.11.2)\n",
            "Requirement already satisfied: requests-toolbelt>=1.0.0 in /usr/local/lib/python3.12/dist-packages (from langsmith>=0.1.125->langchain-community) (1.0.0)\n",
            "Requirement already satisfied: zstandard>=0.23.0 in /usr/local/lib/python3.12/dist-packages (from langsmith>=0.1.125->langchain-community) (0.24.0)\n",
            "Requirement already satisfied: annotated-types>=0.6.0 in /usr/local/lib/python3.12/dist-packages (from pydantic<3,>=1.9.0->openai) (0.7.0)\n",
            "Requirement already satisfied: pydantic-core==2.33.2 in /usr/local/lib/python3.12/dist-packages (from pydantic<3,>=1.9.0->openai) (2.33.2)\n",
            "Requirement already satisfied: typing-inspection>=0.4.0 in /usr/local/lib/python3.12/dist-packages (from pydantic<3,>=1.9.0->openai) (0.4.1)\n",
            "Requirement already satisfied: python-dotenv>=0.21.0 in /usr/local/lib/python3.12/dist-packages (from pydantic-settings<3.0.0,>=2.10.1->langchain-community) (1.1.1)\n",
            "Requirement already satisfied: charset_normalizer<4,>=2 in /usr/local/lib/python3.12/dist-packages (from requests<3,>=2.32.5->langchain-community) (3.4.3)\n",
            "Requirement already satisfied: urllib3<3,>=1.21.1 in /usr/local/lib/python3.12/dist-packages (from requests<3,>=2.32.5->langchain-community) (2.5.0)\n",
            "Requirement already satisfied: greenlet>=1 in /usr/local/lib/python3.12/dist-packages (from SQLAlchemy<3,>=1.4->langchain-community) (3.2.4)\n",
            "Requirement already satisfied: regex>=2022.1.18 in /usr/local/lib/python3.12/dist-packages (from tiktoken<1,>=0.7->langchain-openai) (2024.11.6)\n",
            "Requirement already satisfied: jsonpointer>=1.9 in /usr/local/lib/python3.12/dist-packages (from jsonpatch<2.0,>=1.33->langchain-core<2.0.0,>=0.3.75->langchain-community) (3.0.0)\n",
            "Requirement already satisfied: mypy-extensions>=0.3.0 in /usr/local/lib/python3.12/dist-packages (from typing-inspect<1,>=0.4.0->dataclasses-json<0.7,>=0.6.7->langchain-community) (1.1.0)\n"
          ]
        }
      ]
    },
    {
      "cell_type": "code",
      "source": [
        "import os\n",
        "from getpass import getpass\n",
        "from langchain_community.vectorstores import FAISS\n",
        "from langchain_community.document_loaders import PyPDFLoader, Docx2txtLoader\n",
        "from langchain.text_splitter import RecursiveCharacterTextSplitter\n",
        "from langchain_openai import OpenAIEmbeddings\n",
        "from openai import OpenAI"
      ],
      "metadata": {
        "id": "XjbPtEZeQUlt"
      },
      "execution_count": 58,
      "outputs": []
    },
    {
      "cell_type": "code",
      "source": [
        "os.environ[\"OPENAI_API_KEY\"] = getpass(\"Enter your OpenAI API key: \")\n",
        "\n",
        "\n",
        "client = OpenAI(api_key=os.getenv(\"OPENAI_API_KEY\"))\n",
        "\n",
        "\n",
        "embedding = OpenAIEmbeddings()"
      ],
      "metadata": {
        "colab": {
          "base_uri": "https://localhost:8080/"
        },
        "id": "Xk-UIJpl50Ea",
        "outputId": "e9eb7888-2f47-4bbd-b865-14bc02273016"
      },
      "execution_count": 60,
      "outputs": [
        {
          "name": "stdout",
          "output_type": "stream",
          "text": [
            "Enter your OpenAI API key: ··········\n"
          ]
        }
      ]
    },
    {
      "cell_type": "code",
      "source": [
        "# 📂 Paths\n",
        "FOLDER_PATH = \"/content/wedlii_docs\"\n",
        "INDEX_PATH = \"/content/faiss_index\"\n",
        "\n",
        "# 🔑 Embeddings\n",
        "embedding = OpenAIEmbeddings()\n",
        "\n",
        "# ✅ Load existing FAISS index if available\n",
        "if os.path.exists(f\"{INDEX_PATH}/index.faiss\"):\n",
        "    print(\"✅ Loading existing FAISS index...\")\n",
        "    vectorstore = FAISS.load_local(INDEX_PATH, embedding, allow_dangerous_deserialization=True)\n",
        "\n",
        "else:\n",
        "    # 📂 If no docs folder, create it and stop\n",
        "    if not os.path.exists(FOLDER_PATH):\n",
        "        os.makedirs(FOLDER_PATH)\n",
        "        print(f\"📂 Created '{FOLDER_PATH}'. Please add Wedlii PDF/DOCX files and rerun.\")\n",
        "        raise SystemExit\n",
        "\n",
        "    all_documents = []\n",
        "\n",
        "    # 📥 Load all files inside folder\n",
        "for file in os.listdir(FOLDER_PATH):\n",
        "    path = os.path.join(FOLDER_PATH, file)\n",
        "    file_name, ext = os.path.splitext(file)\n",
        "\n",
        "    loader = None\n",
        "    if ext.lower() == \".pdf\":\n",
        "        loader = PyPDFLoader(path)\n",
        "    elif ext.lower() == \".docx\":\n",
        "        loader = Docx2txtLoader(path)\n",
        "    else:\n",
        "        continue  # skip unsupported formats\n",
        "\n",
        "    try:\n",
        "        documents = loader.load()\n",
        "\n",
        "        # 🧹 Clean filename → make a nice title\n",
        "        clean_title = file_name.replace(\"_\", \" \").replace(\"-\", \" \").title()\n",
        "\n",
        "        # Attach useful metadata\n",
        "        for i, doc in enumerate(documents, 1):\n",
        "            doc.metadata.update({\n",
        "                \"source_file\": file,\n",
        "                \"chunk_number\": i,\n",
        "                \"page_number\": i,\n",
        "                \"title\": clean_title if clean_title else \"Untitled Document\"\n",
        "            })\n",
        "\n",
        "        print(f\"✅ Loaded {file} → Title: {clean_title} with {len(documents)} chunks\")\n",
        "        all_documents.extend(documents)\n",
        "\n",
        "    except Exception as e:\n",
        "        print(f\"⚠️ Could not load {file}, skipping... ({e})\")\n",
        "        continue"
      ],
      "metadata": {
        "colab": {
          "base_uri": "https://localhost:8080/"
        },
        "id": "rcAu61gVdYPb",
        "outputId": "c20f49ca-1d87-4745-a7d5-32cc8714179f"
      },
      "execution_count": 61,
      "outputs": [
        {
          "output_type": "stream",
          "name": "stdout",
          "text": [
            "✅ Loading existing FAISS index...\n",
            "✅ Loaded Vendors.pdf → Title: Vendors with 5 chunks\n",
            "✅ Loaded AI Wedding Visions.pdf → Title: Ai Wedding Visions with 1 chunks\n",
            "✅ Loaded Venues.pdf → Title: Venues with 6 chunks\n",
            "✅ Loaded Bridal Hairstyle Types.pdf → Title: Bridal Hairstyle Types with 2 chunks\n",
            "✅ Loaded BLOGS.pdf → Title: Blogs with 11 chunks\n",
            "✅ Loaded Deamy_Byron_Bay_Boho_Wedding_Styled_Shoot.pdf → Title: Deamy Byron Bay Boho Wedding Styled Shoot with 1 chunks\n",
            "✅ Loaded About Wedlii.pdf → Title: About Wedlii with 3 chunks\n",
            "✅ Loaded Wedding Cake Types.pdf → Title: Wedding Cake Types with 2 chunks\n",
            "✅ Loaded Wedlii_Colour_Palette.pdf → Title: Wedlii Colour Palette with 4 chunks\n",
            "✅ Loaded Wedding Flower Types.pdf → Title: Wedding Flower Types with 2 chunks\n",
            "✅ Loaded Bridal Makeup Types.pdf → Title: Bridal Makeup Types with 1 chunks\n"
          ]
        }
      ]
    },
    {
      "cell_type": "code",
      "source": [
        "# 🔍 Load FAISS index\n",
        "vectorstore = FAISS.load_local(INDEX_PATH, embedding, allow_dangerous_deserialization=True)\n",
        "\n",
        "# 📊 Get the total number of chunks in FAISS\n",
        "total_chunks = len(vectorstore.index_to_docstore_id)\n",
        "print(f\"📦 Total chunks stored in Wedlii vectorstore: {total_chunks}\")"
      ],
      "metadata": {
        "colab": {
          "base_uri": "https://localhost:8080/"
        },
        "id": "5SpOxPab-OKC",
        "outputId": "1ec740be-2498-42ab-8508-9a89f8e7ecb5"
      },
      "execution_count": 63,
      "outputs": [
        {
          "output_type": "stream",
          "name": "stdout",
          "text": [
            "📦 Total chunks stored in Wedlii vectorstore: 63\n"
          ]
        }
      ]
    },
    {
      "cell_type": "code",
      "source": [
        "# ✂️ Split documents into smaller overlapping chunks\n",
        "splitter = RecursiveCharacterTextSplitter(chunk_size=500, chunk_overlap=100)\n",
        "chunks = splitter.split_documents(all_documents)\n",
        "\n",
        "# 🔍 Create FAISS index\n",
        "vectorstore = FAISS.from_documents(chunks, embedding)\n",
        "vectorstore.save_local(INDEX_PATH)\n",
        "print(\"✅ FAISS index created and saved with chunked Wedlii docs!\")\n",
        "\n",
        "# 🔎 Create retriever (retrieve top 8 chunks for better context)\n",
        "retriever = vectorstore.as_retriever(search_kwargs={\"k\": 8})\n",
        "\n",
        "# 🤵 Wedlii Assistant Prompt\n",
        "policy_prompt = \"\"\"\n",
        "You are a Wedlii Knowledge Assistant.\n",
        "Only answer questions using the information provided in Wedlii documents.\n",
        "If the answer is not found, say: \"I cannot find that information in the Wedlii docs.\"\n",
        "Be clear, concise, and professional.\n",
        "\"\"\""
      ],
      "metadata": {
        "colab": {
          "base_uri": "https://localhost:8080/"
        },
        "id": "ouqReDqC-gww",
        "outputId": "e59a8092-5a92-4ff5-dff3-5b91ac195eab"
      },
      "execution_count": 64,
      "outputs": [
        {
          "output_type": "stream",
          "name": "stdout",
          "text": [
            "✅ FAISS index created and saved with chunked Wedlii docs!\n"
          ]
        }
      ]
    },
    {
      "cell_type": "code",
      "source": [
        "print(\"🤵 Wedlii Knowledge Chatbot ready! Type 'exit' to stop.\\n\")\n",
        "\n",
        "while True:\n",
        "    query = input(\"You: \")\n",
        "    if query.lower() in [\"exit\", \"quit\"]:\n",
        "        print(\"👋 Goodbye! Thanks for chatting with Wedlii.\")\n",
        "        break\n",
        "\n",
        "    # 🔹 Classify query into one Wedlii category\n",
        "    classification_prompt = f\"\"\"\n",
        "    You are a smart classifier. Classify the following query into ONE of these Wedlii categories:\n",
        "\n",
        "    1. About Wedlii\n",
        "    2. AI Wedding Visions\n",
        "    3. BLOGS\n",
        "    4. Bridal Hairstyle Types\n",
        "    5. Bridal Makeup Types\n",
        "    6. Deamy_Byron_Bay_Boho_Wedding_Styled_Shoot\n",
        "    7. Vendors\n",
        "    8. Venues\n",
        "    9. Wedding Cake Types\n",
        "    10. Wedding Flower Types\n",
        "    11. Wedlii_Colour_Palette\n",
        "\n",
        "    Query: \"{query}\"\n",
        "\n",
        "    Respond ONLY with the exact category name.\n",
        "    \"\"\"\n",
        "\n",
        "    classify_response = client.chat.completions.create(\n",
        "        model=\"gpt-4.1-nano\",\n",
        "        messages=[{\"role\": \"system\", \"content\": classification_prompt}],\n",
        "        max_tokens=10,\n",
        "        temperature=0\n",
        "    )\n",
        "\n",
        "    category = classify_response.choices[0].message.content.strip()\n",
        "    print(f\"🔍 GPT says this query is related to: {category}\")\n",
        "\n",
        "    # 🔹 Retrieve relevant docs (no metadata filter since 'title' wasn't saved)\n",
        "    relevant_docs = vectorstore.similarity_search(query, k=1)\n",
        "\n",
        "    # 🔹 Build context from retrieved docs\n",
        "    context_list = []\n",
        "    for i, doc in enumerate(relevant_docs, 1):\n",
        "        context_list.append(\n",
        "            f\"Chunk {i} Content:\\n{doc.page_content}\\nSource: {doc.metadata.get('source_file')}\\n\"\n",
        "        )\n",
        "    context = \"\\n\".join(context_list)\n",
        "\n",
        "    print(\"\\n=== Retrieved Chunks ===\")\n",
        "    for doc in relevant_docs:\n",
        "        print(\"Content:\", doc.page_content[:80], \"...\")\n",
        "        print(\"Metadata:\", doc.metadata)\n",
        "        print(\"-\" * 30)\n",
        "\n",
        "    # 🔹 Build conversation\n",
        "    messages = [\n",
        "        {\"role\": \"system\", \"content\": policy_prompt},\n",
        "        {\n",
        "            \"role\": \"user\",\n",
        "            \"content\": f\"Category: {category}\\n\\nContext:\\n{context}\\n\\nQuestion: {query}\"\n",
        "        }\n",
        "    ]\n",
        "\n",
        "    # 🔹 Get final answer from ChatGPT\n",
        "    response = client.chat.completions.create(\n",
        "        model=\"gpt-4.1-nano\",   # you can switch to \"gpt-4o-mini\" for better answers\n",
        "        messages=messages,\n",
        "        max_tokens=300,\n",
        "        temperature=0.5\n",
        "    )\n",
        "\n",
        "    print(\"Bot:\", response.choices[0].message.content)\n",
        "    print(\"=\" * 80)\n"
      ],
      "metadata": {
        "colab": {
          "base_uri": "https://localhost:8080/"
        },
        "id": "LBWQq5U8e0cc",
        "outputId": "3f2612d1-f08f-4576-91f4-a794b101ba7a"
      },
      "execution_count": null,
      "outputs": [
        {
          "output_type": "stream",
          "name": "stdout",
          "text": [
            "🤵 Wedlii Knowledge Chatbot ready! Type 'exit' to stop.\n",
            "\n",
            "You: what is Naked / Semi-Naked Cakes \n",
            "🔍 GPT says this query is related to: Wedding Cake Types\n",
            "\n",
            "=== Retrieved Chunks ===\n",
            "Content: Fondant  Cakes  \n",
            "●  Smooth,  polished,  ideal  for  detailed  designs.  \n",
            " \n",
            "Naked ...\n",
            "Metadata: {'producer': 'Skia/PDF m141 Google Docs Renderer', 'creator': 'PyPDF', 'creationdate': '', 'title': 'Untitled document', 'source': '/content/wedlii_docs/Wedding Cake Types.pdf', 'total_pages': 2, 'page': 1, 'page_label': '2', 'source_file': 'Wedding Cake Types.pdf', 'chunk_number': 2, 'page_number': 2}\n",
            "------------------------------\n",
            "Bot: Naked / Semi-Naked Cakes are cakes with minimal frosting, with the cake layers exposed.\n",
            "================================================================================\n"
          ]
        }
      ]
    }
  ]
}